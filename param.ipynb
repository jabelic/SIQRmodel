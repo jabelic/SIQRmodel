{
 "cells": [
  {
   "cell_type": "code",
   "execution_count": 54,
   "metadata": {},
   "outputs": [],
   "source": [
    "# 累積検査人数\n",
    "sum_of_tested = 121339.50\n",
    "\n",
    "#累積感染者\n",
    "infected = 8640\n",
    "\n",
    "#累積退院者\n",
    "discharge = 6771\n",
    "\n",
    "#入院中\n",
    "in_hospital = 760\n",
    "\n",
    "#自宅/宿泊療養者\n",
    "isolation = 248 + 118\n",
    "\n",
    "#累積陽性者\n",
    "positive = 6257\n",
    "\n",
    "#12日前までの陽性者\n",
    "limited_positive = 1987\n",
    "\n",
    "\n",
    "#死亡者\n",
    "death = 326\n",
    "\n",
    "#判断中\n",
    "judging = 417\n",
    "\n",
    "#11日前までの入院者数\n",
    "inhosp12 = 6138\n"
   ]
  },
  {
   "cell_type": "code",
   "execution_count": 60,
   "metadata": {},
   "outputs": [],
   "source": [
    "#隔離率\n",
    "# 隔離者(入院, 療養)/現在の陽性者\n",
    "# 現在の陽性者= 12日前までの陽性者  - 死亡 \n",
    "\n",
    "p = (isolation+in_hospital)/(limited_positive - death)\n",
    "\n",
    "\n",
    "\n"
   ]
  },
  {
   "cell_type": "code",
   "execution_count": 58,
   "metadata": {},
   "outputs": [
    {
     "data": {
      "text/plain": [
       "0.8260339148468953"
      ]
     },
     "execution_count": 58,
     "metadata": {},
     "output_type": "execute_result"
    }
   ],
   "source": [
    "# 隔離感染者の治癒率\n",
    "# 累計自宅療養者はほぼ全員治癒すると考えて、その数を1100人と仮定\n",
    "# 現在の自宅/宿泊療養者が350人ほど\n",
    "# 過去12日前までの陽性者は約2000人ほど\n",
    "# 累計退院者+死亡者の数がおおよそ6500人なので, 1100人\n",
    "gamma_dash = discharge/(discharge+death+1100)\n",
    "\n",
    "gamma_dash"
   ]
  },
  {
   "cell_type": "code",
   "execution_count": 59,
   "metadata": {},
   "outputs": [
    {
     "data": {
      "text/plain": [
       "0.6779048765803732"
      ]
     },
     "execution_count": 59,
     "metadata": {},
     "output_type": "execute_result"
    }
   ],
   "source": [
    "p"
   ]
  },
  {
   "cell_type": "code",
   "execution_count": 1,
   "metadata": {},
   "outputs": [
    {
     "data": {
      "text/plain": [
       "0.14285714285714285"
      ]
     },
     "execution_count": 1,
     "metadata": {},
     "output_type": "execute_result"
    }
   ],
   "source": [
    "#p = pI/I\n",
    "#pI is PCR+\n",
    "\n",
    "1/7\n",
    "\n"
   ]
  },
  {
   "cell_type": "code",
   "execution_count": null,
   "metadata": {},
   "outputs": [],
   "source": []
  }
 ],
 "metadata": {
  "kernelspec": {
   "display_name": "Python 3",
   "language": "python",
   "name": "python3"
  },
  "language_info": {
   "codemirror_mode": {
    "name": "ipython",
    "version": 3
   },
   "file_extension": ".py",
   "mimetype": "text/x-python",
   "name": "python",
   "nbconvert_exporter": "python",
   "pygments_lexer": "ipython3",
   "version": "3.8.2"
  }
 },
 "nbformat": 4,
 "nbformat_minor": 4
}
